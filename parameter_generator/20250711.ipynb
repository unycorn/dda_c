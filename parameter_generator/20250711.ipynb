{
 "cells": [
  {
   "cell_type": "code",
   "execution_count": 32,
   "id": "0febe841",
   "metadata": {},
   "outputs": [],
   "source": [
    "import numpy as np\n",
    "import matplotlib.pyplot as plt\n",
    "\n",
    "# Load the Ammann-Beenker data\n",
    "ab_xy_data = 0.9235008097 * np.load('Iteration4_300nm.npy')\n",
    "\n",
    "# Extract x and y coordinates from complex numbers\n",
    "x = np.array([xyi.real for xyi in ab_xy_data])\n",
    "y = np.array([xyi.imag for xyi in ab_xy_data])\n",
    "\n",
    "# Create the plot\n",
    "# plt.figure(figsize=(10, 10))\n",
    "# plt.scatter(x, y, s=20)\n",
    "# plt.axis('equal')\n",
    "# plt.xlabel('X position (m)')\n",
    "# plt.ylabel('Y position (m)')\n",
    "# plt.title('Ammann-Beenker Lattice Points')\n",
    "# plt.grid(True)\n",
    "# plt.show()\n",
    "\n",
    "width = np.max(x)-np.min(x)\n",
    "height = np.max(y)-np.min(y)\n",
    "\n",
    "np.sqrt(height * width / np.size(x))\n",
    "\n",
    "np.save('Iteration4_300nm_density.npy', ab_xy_data)"
   ]
  },
  {
   "cell_type": "code",
   "execution_count": 63,
   "id": "4ac48b86",
   "metadata": {},
   "outputs": [
    {
     "name": "stdout",
     "output_type": "stream",
     "text": [
      "Width: 0.004999812707285166, Height: 0.004999581545040119\n",
      "2.9998678871213614e-07\n"
     ]
    }
   ],
   "source": [
    "from cdm_params import create_square_lattice, create_triangular_lattice\n",
    "\n",
    "square_spacing = 300e-9\n",
    "tri_spacing = square_spacing / np.sqrt(np.sin(np.pi / 3))\n",
    "xx, yy = create_triangular_lattice(tri_spacing, 5000e-6)\n",
    "\n",
    "width = np.max(xx)-np.min(xx)\n",
    "height = np.max(yy)-np.min(yy)\n",
    "\n",
    "print(f\"Width: {width}, Height: {height}\")\n",
    "\n",
    "print(np.sqrt(height * width / np.size(xx)))\n",
    "\n"
   ]
  },
  {
   "cell_type": "code",
   "execution_count": 62,
   "id": "b68a59f6",
   "metadata": {},
   "outputs": [
    {
     "name": "stdout",
     "output_type": "stream",
     "text": [
      "Width: 0.0049995, Height: 0.0049995\n",
      "2.999819992799712e-07\n"
     ]
    }
   ],
   "source": [
    "xx, yy = create_square_lattice(square_spacing, 5000e-6)\n",
    "\n",
    "width = np.max(xx)-np.min(xx)\n",
    "height = np.max(yy)-np.min(yy)\n",
    "\n",
    "print(f\"Width: {width}, Height: {height}\")\n",
    "\n",
    "print(np.sqrt(height * width / np.size(xx)))"
   ]
  }
 ],
 "metadata": {
  "kernelspec": {
   "display_name": "base",
   "language": "python",
   "name": "python3"
  },
  "language_info": {
   "codemirror_mode": {
    "name": "ipython",
    "version": 3
   },
   "file_extension": ".py",
   "mimetype": "text/x-python",
   "name": "python",
   "nbconvert_exporter": "python",
   "pygments_lexer": "ipython3",
   "version": "3.11.13"
  }
 },
 "nbformat": 4,
 "nbformat_minor": 5
}
