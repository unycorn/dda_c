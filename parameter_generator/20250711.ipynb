{
 "cells": [
  {
   "cell_type": "code",
   "execution_count": null,
   "id": "0febe841",
   "metadata": {},
   "outputs": [
    {
     "data": {
      "text/plain": [
       "np.float64(2.9999999999569637e-07)"
      ]
     },
     "execution_count": 31,
     "metadata": {},
     "output_type": "execute_result"
    }
   ],
   "source": [
    "import numpy as np\n",
    "import matplotlib.pyplot as plt\n",
    "\n",
    "# Load the Ammann-Beenker data\n",
    "ab_xy_data = 0.9235008097 * np.load('Iteration4_300nm.npy')\n",
    "\n",
    "# Extract x and y coordinates from complex numbers\n",
    "x = np.array([xyi.real for xyi in ab_xy_data])\n",
    "y = np.array([xyi.imag for xyi in ab_xy_data])\n",
    "\n",
    "# Create the plot\n",
    "# plt.figure(figsize=(10, 10))\n",
    "# plt.scatter(x, y, s=20)\n",
    "# plt.axis('equal')\n",
    "# plt.xlabel('X position (m)')\n",
    "# plt.ylabel('Y position (m)')\n",
    "# plt.title('Ammann-Beenker Lattice Points')\n",
    "# plt.grid(True)\n",
    "# plt.show()\n",
    "\n",
    "width = np.max(x)-np.min(x)\n",
    "height = np.max(y)-np.min(y)\n",
    "\n",
    "np.sqrt(height * width / np.size(x))\n",
    "\n",
    "np.save('Iteration4_300nm_density.npy', ab_xy_data)"
   ]
  }
 ],
 "metadata": {
  "kernelspec": {
   "display_name": "base",
   "language": "python",
   "name": "python3"
  },
  "language_info": {
   "codemirror_mode": {
    "name": "ipython",
    "version": 3
   },
   "file_extension": ".py",
   "mimetype": "text/x-python",
   "name": "python",
   "nbconvert_exporter": "python",
   "pygments_lexer": "ipython3",
   "version": "3.11.13"
  }
 },
 "nbformat": 4,
 "nbformat_minor": 5
}
